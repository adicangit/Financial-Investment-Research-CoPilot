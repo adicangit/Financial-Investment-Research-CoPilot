{
  "nbformat": 4,
  "nbformat_minor": 0,
  "metadata": {
    "colab": {
      "provenance": [],
      "toc_visible": true,
      "authorship_tag": "ABX9TyNLgxtMnvsowY6+YThISCnA",
      "include_colab_link": true
    },
    "kernelspec": {
      "name": "python3",
      "display_name": "Python 3"
    },
    "language_info": {
      "name": "python"
    }
  },
  "cells": [
    {
      "cell_type": "markdown",
      "metadata": {
        "id": "view-in-github",
        "colab_type": "text"
      },
      "source": [
        "<a href=\"https://colab.research.google.com/github/adicangit/Financial-Investment-Research-CoPilot/blob/main/Ai_Agents_Chatbot.ipynb\" target=\"_parent\"><img src=\"https://colab.research.google.com/assets/colab-badge.svg\" alt=\"Open In Colab\"/></a>"
      ]
    },
    {
      "cell_type": "markdown",
      "source": [
        "# Install All the needed packages"
      ],
      "metadata": {
        "id": "BUBJCjSFRMoj"
      }
    },
    {
      "cell_type": "code",
      "execution_count": null,
      "metadata": {
        "colab": {
          "base_uri": "https://localhost:8080/"
        },
        "id": "mIkaxb3mQ9yW",
        "outputId": "44949b2a-0219-4a26-e5a2-80b70f66a477"
      },
      "outputs": [
        {
          "output_type": "stream",
          "name": "stdout",
          "text": [
            "Collecting dotenv\n",
            "  Downloading dotenv-0.9.9-py2.py3-none-any.whl.metadata (279 bytes)\n",
            "Collecting llama-index-tools-tavily-research\n",
            "  Downloading llama_index_tools_tavily_research-0.3.0-py3-none-any.whl.metadata (3.0 kB)\n",
            "Collecting llama-index\n",
            "  Downloading llama_index-0.12.30-py3-none-any.whl.metadata (12 kB)\n",
            "Collecting llama-hub\n",
            "  Downloading llama_hub-0.0.79.post1-py3-none-any.whl.metadata (16 kB)\n",
            "Collecting tavily-python\n",
            "  Downloading tavily_python-0.5.4-py3-none-any.whl.metadata (91 kB)\n",
            "\u001b[2K     \u001b[90m━━━━━━━━━━━━━━━━━━━━━━━━━━━━━━━━━━━━━━━━\u001b[0m \u001b[32m91.6/91.6 kB\u001b[0m \u001b[31m1.6 MB/s\u001b[0m eta \u001b[36m0:00:00\u001b[0m\n",
            "\u001b[?25hCollecting llama_index.llms.groq\n",
            "  Downloading llama_index_llms_groq-0.3.1-py3-none-any.whl.metadata (2.3 kB)\n",
            "Collecting llama-index-tools-yahoo-finance\n",
            "  Downloading llama_index_tools_yahoo_finance-0.3.0-py3-none-any.whl.metadata (1.8 kB)\n",
            "Collecting pyvis\n",
            "  Downloading pyvis-0.3.2-py3-none-any.whl.metadata (1.7 kB)\n",
            "Collecting python-dotenv (from dotenv)\n",
            "  Downloading python_dotenv-1.1.0-py3-none-any.whl.metadata (24 kB)\n",
            "Collecting llama-index-core<0.13.0,>=0.12.0 (from llama-index-tools-tavily-research)\n",
            "  Downloading llama_index_core-0.12.30-py3-none-any.whl.metadata (2.6 kB)\n",
            "Collecting llama-index-agent-openai<0.5.0,>=0.4.0 (from llama-index)\n",
            "  Downloading llama_index_agent_openai-0.4.6-py3-none-any.whl.metadata (727 bytes)\n",
            "Collecting llama-index-cli<0.5.0,>=0.4.1 (from llama-index)\n",
            "  Downloading llama_index_cli-0.4.1-py3-none-any.whl.metadata (1.5 kB)\n",
            "Collecting llama-index-embeddings-openai<0.4.0,>=0.3.0 (from llama-index)\n",
            "  Downloading llama_index_embeddings_openai-0.3.1-py3-none-any.whl.metadata (684 bytes)\n",
            "Collecting llama-index-indices-managed-llama-cloud>=0.4.0 (from llama-index)\n",
            "  Downloading llama_index_indices_managed_llama_cloud-0.6.11-py3-none-any.whl.metadata (3.6 kB)\n",
            "Collecting llama-index-llms-openai<0.4.0,>=0.3.0 (from llama-index)\n",
            "  Downloading llama_index_llms_openai-0.3.33-py3-none-any.whl.metadata (3.3 kB)\n",
            "Collecting llama-index-multi-modal-llms-openai<0.5.0,>=0.4.0 (from llama-index)\n",
            "  Downloading llama_index_multi_modal_llms_openai-0.4.3-py3-none-any.whl.metadata (726 bytes)\n",
            "Collecting llama-index-program-openai<0.4.0,>=0.3.0 (from llama-index)\n",
            "  Downloading llama_index_program_openai-0.3.1-py3-none-any.whl.metadata (764 bytes)\n",
            "Collecting llama-index-question-gen-openai<0.4.0,>=0.3.0 (from llama-index)\n",
            "  Downloading llama_index_question_gen_openai-0.3.0-py3-none-any.whl.metadata (783 bytes)\n",
            "Collecting llama-index-readers-file<0.5.0,>=0.4.0 (from llama-index)\n",
            "  Downloading llama_index_readers_file-0.4.7-py3-none-any.whl.metadata (5.4 kB)\n",
            "Collecting llama-index-readers-llama-parse>=0.4.0 (from llama-index)\n",
            "  Downloading llama_index_readers_llama_parse-0.4.0-py3-none-any.whl.metadata (3.6 kB)\n",
            "Requirement already satisfied: nltk>3.8.1 in /usr/local/lib/python3.11/dist-packages (from llama-index) (3.9.1)\n",
            "Collecting html2text (from llama-hub)\n",
            "  Downloading html2text-2024.2.26.tar.gz (56 kB)\n",
            "\u001b[2K     \u001b[90m━━━━━━━━━━━━━━━━━━━━━━━━━━━━━━━━━━━━━━━━\u001b[0m \u001b[32m56.5/56.5 kB\u001b[0m \u001b[31m2.4 MB/s\u001b[0m eta \u001b[36m0:00:00\u001b[0m\n",
            "\u001b[?25h  Preparing metadata (setup.py) ... \u001b[?25l\u001b[?25hdone\n",
            "Requirement already satisfied: psutil in /usr/local/lib/python3.11/dist-packages (from llama-hub) (5.9.5)\n",
            "Collecting pyaml<24.0.0,>=23.9.7 (from llama-hub)\n",
            "  Downloading pyaml-23.12.0-py3-none-any.whl.metadata (11 kB)\n",
            "Collecting retrying (from llama-hub)\n",
            "  Downloading retrying-1.3.4-py3-none-any.whl.metadata (6.9 kB)\n",
            "Requirement already satisfied: requests in /usr/local/lib/python3.11/dist-packages (from tavily-python) (2.32.3)\n",
            "Collecting tiktoken>=0.5.1 (from tavily-python)\n",
            "  Downloading tiktoken-0.9.0-cp311-cp311-manylinux_2_17_x86_64.manylinux2014_x86_64.whl.metadata (6.7 kB)\n",
            "Requirement already satisfied: httpx in /usr/local/lib/python3.11/dist-packages (from tavily-python) (0.28.1)\n",
            "Collecting llama-index-llms-openai-like<0.4.0,>=0.3.1 (from llama_index.llms.groq)\n",
            "  Downloading llama_index_llms_openai_like-0.3.4-py3-none-any.whl.metadata (751 bytes)\n",
            "Requirement already satisfied: pandas in /usr/local/lib/python3.11/dist-packages (from llama-index-tools-yahoo-finance) (2.2.2)\n",
            "Requirement already satisfied: yfinance<0.3.0,>=0.2.36 in /usr/local/lib/python3.11/dist-packages (from llama-index-tools-yahoo-finance) (0.2.55)\n",
            "Requirement already satisfied: ipython>=5.3.0 in /usr/local/lib/python3.11/dist-packages (from pyvis) (7.34.0)\n",
            "Requirement already satisfied: jinja2>=2.9.6 in /usr/local/lib/python3.11/dist-packages (from pyvis) (3.1.6)\n",
            "Requirement already satisfied: jsonpickle>=1.4.1 in /usr/local/lib/python3.11/dist-packages (from pyvis) (4.0.5)\n",
            "Requirement already satisfied: networkx>=1.11 in /usr/local/lib/python3.11/dist-packages (from pyvis) (3.4.2)\n",
            "Requirement already satisfied: setuptools>=18.5 in /usr/local/lib/python3.11/dist-packages (from ipython>=5.3.0->pyvis) (75.2.0)\n",
            "Collecting jedi>=0.16 (from ipython>=5.3.0->pyvis)\n",
            "  Downloading jedi-0.19.2-py2.py3-none-any.whl.metadata (22 kB)\n",
            "Requirement already satisfied: decorator in /usr/local/lib/python3.11/dist-packages (from ipython>=5.3.0->pyvis) (4.4.2)\n",
            "Requirement already satisfied: pickleshare in /usr/local/lib/python3.11/dist-packages (from ipython>=5.3.0->pyvis) (0.7.5)\n",
            "Requirement already satisfied: traitlets>=4.2 in /usr/local/lib/python3.11/dist-packages (from ipython>=5.3.0->pyvis) (5.7.1)\n",
            "Requirement already satisfied: prompt-toolkit!=3.0.0,!=3.0.1,<3.1.0,>=2.0.0 in /usr/local/lib/python3.11/dist-packages (from ipython>=5.3.0->pyvis) (3.0.50)\n",
            "Requirement already satisfied: pygments in /usr/local/lib/python3.11/dist-packages (from ipython>=5.3.0->pyvis) (2.18.0)\n",
            "Requirement already satisfied: backcall in /usr/local/lib/python3.11/dist-packages (from ipython>=5.3.0->pyvis) (0.2.0)\n",
            "Requirement already satisfied: matplotlib-inline in /usr/local/lib/python3.11/dist-packages (from ipython>=5.3.0->pyvis) (0.1.7)\n",
            "Requirement already satisfied: pexpect>4.3 in /usr/local/lib/python3.11/dist-packages (from ipython>=5.3.0->pyvis) (4.9.0)\n",
            "Requirement already satisfied: MarkupSafe>=2.0 in /usr/local/lib/python3.11/dist-packages (from jinja2>=2.9.6->pyvis) (3.0.2)\n",
            "Requirement already satisfied: openai>=1.14.0 in /usr/local/lib/python3.11/dist-packages (from llama-index-agent-openai<0.5.0,>=0.4.0->llama-index) (1.70.0)\n",
            "Requirement already satisfied: PyYAML>=6.0.1 in /usr/local/lib/python3.11/dist-packages (from llama-index-core<0.13.0,>=0.12.0->llama-index-tools-tavily-research) (6.0.2)\n",
            "Requirement already satisfied: SQLAlchemy>=1.4.49 in /usr/local/lib/python3.11/dist-packages (from SQLAlchemy[asyncio]>=1.4.49->llama-index-core<0.13.0,>=0.12.0->llama-index-tools-tavily-research) (2.0.40)\n",
            "Requirement already satisfied: aiohttp<4.0.0,>=3.8.6 in /usr/local/lib/python3.11/dist-packages (from llama-index-core<0.13.0,>=0.12.0->llama-index-tools-tavily-research) (3.11.15)\n",
            "Collecting banks<3.0.0,>=2.0.0 (from llama-index-core<0.13.0,>=0.12.0->llama-index-tools-tavily-research)\n",
            "  Downloading banks-2.1.1-py3-none-any.whl.metadata (11 kB)\n",
            "Collecting dataclasses-json (from llama-index-core<0.13.0,>=0.12.0->llama-index-tools-tavily-research)\n",
            "  Downloading dataclasses_json-0.6.7-py3-none-any.whl.metadata (25 kB)\n",
            "Requirement already satisfied: deprecated>=1.2.9.3 in /usr/local/lib/python3.11/dist-packages (from llama-index-core<0.13.0,>=0.12.0->llama-index-tools-tavily-research) (1.2.18)\n",
            "Collecting dirtyjson<2.0.0,>=1.0.8 (from llama-index-core<0.13.0,>=0.12.0->llama-index-tools-tavily-research)\n",
            "  Downloading dirtyjson-1.0.8-py3-none-any.whl.metadata (11 kB)\n",
            "Collecting filetype<2.0.0,>=1.2.0 (from llama-index-core<0.13.0,>=0.12.0->llama-index-tools-tavily-research)\n",
            "  Downloading filetype-1.2.0-py2.py3-none-any.whl.metadata (6.5 kB)\n",
            "Requirement already satisfied: fsspec>=2023.5.0 in /usr/local/lib/python3.11/dist-packages (from llama-index-core<0.13.0,>=0.12.0->llama-index-tools-tavily-research) (2025.3.2)\n",
            "Requirement already satisfied: nest-asyncio<2.0.0,>=1.5.8 in /usr/local/lib/python3.11/dist-packages (from llama-index-core<0.13.0,>=0.12.0->llama-index-tools-tavily-research) (1.6.0)\n",
            "Requirement already satisfied: numpy in /usr/local/lib/python3.11/dist-packages (from llama-index-core<0.13.0,>=0.12.0->llama-index-tools-tavily-research) (2.0.2)\n",
            "Requirement already satisfied: pillow>=9.0.0 in /usr/local/lib/python3.11/dist-packages (from llama-index-core<0.13.0,>=0.12.0->llama-index-tools-tavily-research) (11.1.0)\n",
            "Requirement already satisfied: pydantic>=2.8.0 in /usr/local/lib/python3.11/dist-packages (from llama-index-core<0.13.0,>=0.12.0->llama-index-tools-tavily-research) (2.11.2)\n",
            "Requirement already satisfied: tenacity!=8.4.0,<10.0.0,>=8.2.0 in /usr/local/lib/python3.11/dist-packages (from llama-index-core<0.13.0,>=0.12.0->llama-index-tools-tavily-research) (9.1.2)\n",
            "Requirement already satisfied: tqdm<5.0.0,>=4.66.1 in /usr/local/lib/python3.11/dist-packages (from llama-index-core<0.13.0,>=0.12.0->llama-index-tools-tavily-research) (4.67.1)\n",
            "Requirement already satisfied: typing-extensions>=4.5.0 in /usr/local/lib/python3.11/dist-packages (from llama-index-core<0.13.0,>=0.12.0->llama-index-tools-tavily-research) (4.13.1)\n",
            "Collecting typing-inspect>=0.8.0 (from llama-index-core<0.13.0,>=0.12.0->llama-index-tools-tavily-research)\n",
            "  Downloading typing_inspect-0.9.0-py3-none-any.whl.metadata (1.5 kB)\n",
            "Requirement already satisfied: wrapt in /usr/local/lib/python3.11/dist-packages (from llama-index-core<0.13.0,>=0.12.0->llama-index-tools-tavily-research) (1.17.2)\n",
            "Collecting llama-cloud<0.2.0,>=0.1.13 (from llama-index-indices-managed-llama-cloud>=0.4.0->llama-index)\n",
            "  Downloading llama_cloud-0.1.18-py3-none-any.whl.metadata (902 bytes)\n",
            "Requirement already satisfied: transformers<5.0.0,>=4.37.0 in /usr/local/lib/python3.11/dist-packages (from llama-index-llms-openai-like<0.4.0,>=0.3.1->llama_index.llms.groq) (4.50.3)\n",
            "Requirement already satisfied: beautifulsoup4<5.0.0,>=4.12.3 in /usr/local/lib/python3.11/dist-packages (from llama-index-readers-file<0.5.0,>=0.4.0->llama-index) (4.13.3)\n",
            "Collecting pypdf<6.0.0,>=5.1.0 (from llama-index-readers-file<0.5.0,>=0.4.0->llama-index)\n",
            "  Downloading pypdf-5.4.0-py3-none-any.whl.metadata (7.3 kB)\n",
            "Collecting striprtf<0.0.27,>=0.0.26 (from llama-index-readers-file<0.5.0,>=0.4.0->llama-index)\n",
            "  Downloading striprtf-0.0.26-py3-none-any.whl.metadata (2.1 kB)\n",
            "Collecting llama-parse>=0.5.0 (from llama-index-readers-llama-parse>=0.4.0->llama-index)\n",
            "  Downloading llama_parse-0.6.12-py3-none-any.whl.metadata (6.9 kB)\n",
            "Requirement already satisfied: click in /usr/local/lib/python3.11/dist-packages (from nltk>3.8.1->llama-index) (8.1.8)\n",
            "Requirement already satisfied: joblib in /usr/local/lib/python3.11/dist-packages (from nltk>3.8.1->llama-index) (1.4.2)\n",
            "Requirement already satisfied: regex>=2021.8.3 in /usr/local/lib/python3.11/dist-packages (from nltk>3.8.1->llama-index) (2024.11.6)\n",
            "Requirement already satisfied: charset-normalizer<4,>=2 in /usr/local/lib/python3.11/dist-packages (from requests->tavily-python) (3.4.1)\n",
            "Requirement already satisfied: idna<4,>=2.5 in /usr/local/lib/python3.11/dist-packages (from requests->tavily-python) (3.10)\n",
            "Requirement already satisfied: urllib3<3,>=1.21.1 in /usr/local/lib/python3.11/dist-packages (from requests->tavily-python) (2.3.0)\n",
            "Requirement already satisfied: certifi>=2017.4.17 in /usr/local/lib/python3.11/dist-packages (from requests->tavily-python) (2025.1.31)\n",
            "Requirement already satisfied: multitasking>=0.0.7 in /usr/local/lib/python3.11/dist-packages (from yfinance<0.3.0,>=0.2.36->llama-index-tools-yahoo-finance) (0.0.11)\n",
            "Requirement already satisfied: platformdirs>=2.0.0 in /usr/local/lib/python3.11/dist-packages (from yfinance<0.3.0,>=0.2.36->llama-index-tools-yahoo-finance) (4.3.7)\n",
            "Requirement already satisfied: pytz>=2022.5 in /usr/local/lib/python3.11/dist-packages (from yfinance<0.3.0,>=0.2.36->llama-index-tools-yahoo-finance) (2025.2)\n",
            "Requirement already satisfied: frozendict>=2.3.4 in /usr/local/lib/python3.11/dist-packages (from yfinance<0.3.0,>=0.2.36->llama-index-tools-yahoo-finance) (2.4.6)\n",
            "Requirement already satisfied: peewee>=3.16.2 in /usr/local/lib/python3.11/dist-packages (from yfinance<0.3.0,>=0.2.36->llama-index-tools-yahoo-finance) (3.17.9)\n",
            "Requirement already satisfied: python-dateutil>=2.8.2 in /usr/local/lib/python3.11/dist-packages (from pandas->llama-index-tools-yahoo-finance) (2.8.2)\n",
            "Requirement already satisfied: tzdata>=2022.7 in /usr/local/lib/python3.11/dist-packages (from pandas->llama-index-tools-yahoo-finance) (2025.2)\n",
            "Requirement already satisfied: anyio in /usr/local/lib/python3.11/dist-packages (from httpx->tavily-python) (4.9.0)\n",
            "Requirement already satisfied: httpcore==1.* in /usr/local/lib/python3.11/dist-packages (from httpx->tavily-python) (1.0.7)\n",
            "Requirement already satisfied: h11<0.15,>=0.13 in /usr/local/lib/python3.11/dist-packages (from httpcore==1.*->httpx->tavily-python) (0.14.0)\n",
            "Requirement already satisfied: six>=1.7.0 in /usr/local/lib/python3.11/dist-packages (from retrying->llama-hub) (1.17.0)\n",
            "Requirement already satisfied: aiohappyeyeballs>=2.3.0 in /usr/local/lib/python3.11/dist-packages (from aiohttp<4.0.0,>=3.8.6->llama-index-core<0.13.0,>=0.12.0->llama-index-tools-tavily-research) (2.6.1)\n",
            "Requirement already satisfied: aiosignal>=1.1.2 in /usr/local/lib/python3.11/dist-packages (from aiohttp<4.0.0,>=3.8.6->llama-index-core<0.13.0,>=0.12.0->llama-index-tools-tavily-research) (1.3.2)\n",
            "Requirement already satisfied: attrs>=17.3.0 in /usr/local/lib/python3.11/dist-packages (from aiohttp<4.0.0,>=3.8.6->llama-index-core<0.13.0,>=0.12.0->llama-index-tools-tavily-research) (25.3.0)\n",
            "Requirement already satisfied: frozenlist>=1.1.1 in /usr/local/lib/python3.11/dist-packages (from aiohttp<4.0.0,>=3.8.6->llama-index-core<0.13.0,>=0.12.0->llama-index-tools-tavily-research) (1.5.0)\n",
            "Requirement already satisfied: multidict<7.0,>=4.5 in /usr/local/lib/python3.11/dist-packages (from aiohttp<4.0.0,>=3.8.6->llama-index-core<0.13.0,>=0.12.0->llama-index-tools-tavily-research) (6.3.2)\n",
            "Requirement already satisfied: propcache>=0.2.0 in /usr/local/lib/python3.11/dist-packages (from aiohttp<4.0.0,>=3.8.6->llama-index-core<0.13.0,>=0.12.0->llama-index-tools-tavily-research) (0.3.1)\n",
            "Requirement already satisfied: yarl<2.0,>=1.17.0 in /usr/local/lib/python3.11/dist-packages (from aiohttp<4.0.0,>=3.8.6->llama-index-core<0.13.0,>=0.12.0->llama-index-tools-tavily-research) (1.18.3)\n",
            "Collecting griffe (from banks<3.0.0,>=2.0.0->llama-index-core<0.13.0,>=0.12.0->llama-index-tools-tavily-research)\n",
            "  Downloading griffe-1.7.2-py3-none-any.whl.metadata (5.0 kB)\n",
            "Requirement already satisfied: soupsieve>1.2 in /usr/local/lib/python3.11/dist-packages (from beautifulsoup4<5.0.0,>=4.12.3->llama-index-readers-file<0.5.0,>=0.4.0->llama-index) (2.6)\n",
            "Requirement already satisfied: parso<0.9.0,>=0.8.4 in /usr/local/lib/python3.11/dist-packages (from jedi>=0.16->ipython>=5.3.0->pyvis) (0.8.4)\n",
            "Collecting llama-cloud-services>=0.6.12 (from llama-parse>=0.5.0->llama-index-readers-llama-parse>=0.4.0->llama-index)\n",
            "  Downloading llama_cloud_services-0.6.12-py3-none-any.whl.metadata (3.4 kB)\n",
            "Requirement already satisfied: distro<2,>=1.7.0 in /usr/local/lib/python3.11/dist-packages (from openai>=1.14.0->llama-index-agent-openai<0.5.0,>=0.4.0->llama-index) (1.9.0)\n",
            "Requirement already satisfied: jiter<1,>=0.4.0 in /usr/local/lib/python3.11/dist-packages (from openai>=1.14.0->llama-index-agent-openai<0.5.0,>=0.4.0->llama-index) (0.9.0)\n",
            "Requirement already satisfied: sniffio in /usr/local/lib/python3.11/dist-packages (from openai>=1.14.0->llama-index-agent-openai<0.5.0,>=0.4.0->llama-index) (1.3.1)\n",
            "Requirement already satisfied: ptyprocess>=0.5 in /usr/local/lib/python3.11/dist-packages (from pexpect>4.3->ipython>=5.3.0->pyvis) (0.7.0)\n",
            "Requirement already satisfied: wcwidth in /usr/local/lib/python3.11/dist-packages (from prompt-toolkit!=3.0.0,!=3.0.1,<3.1.0,>=2.0.0->ipython>=5.3.0->pyvis) (0.2.13)\n",
            "Requirement already satisfied: annotated-types>=0.6.0 in /usr/local/lib/python3.11/dist-packages (from pydantic>=2.8.0->llama-index-core<0.13.0,>=0.12.0->llama-index-tools-tavily-research) (0.7.0)\n",
            "Requirement already satisfied: pydantic-core==2.33.1 in /usr/local/lib/python3.11/dist-packages (from pydantic>=2.8.0->llama-index-core<0.13.0,>=0.12.0->llama-index-tools-tavily-research) (2.33.1)\n",
            "Requirement already satisfied: typing-inspection>=0.4.0 in /usr/local/lib/python3.11/dist-packages (from pydantic>=2.8.0->llama-index-core<0.13.0,>=0.12.0->llama-index-tools-tavily-research) (0.4.0)\n",
            "Requirement already satisfied: greenlet>=1 in /usr/local/lib/python3.11/dist-packages (from SQLAlchemy>=1.4.49->SQLAlchemy[asyncio]>=1.4.49->llama-index-core<0.13.0,>=0.12.0->llama-index-tools-tavily-research) (3.1.1)\n",
            "Requirement already satisfied: filelock in /usr/local/lib/python3.11/dist-packages (from transformers<5.0.0,>=4.37.0->llama-index-llms-openai-like<0.4.0,>=0.3.1->llama_index.llms.groq) (3.18.0)\n",
            "Requirement already satisfied: huggingface-hub<1.0,>=0.26.0 in /usr/local/lib/python3.11/dist-packages (from transformers<5.0.0,>=4.37.0->llama-index-llms-openai-like<0.4.0,>=0.3.1->llama_index.llms.groq) (0.30.1)\n",
            "Requirement already satisfied: packaging>=20.0 in /usr/local/lib/python3.11/dist-packages (from transformers<5.0.0,>=4.37.0->llama-index-llms-openai-like<0.4.0,>=0.3.1->llama_index.llms.groq) (24.2)\n",
            "Requirement already satisfied: tokenizers<0.22,>=0.21 in /usr/local/lib/python3.11/dist-packages (from transformers<5.0.0,>=4.37.0->llama-index-llms-openai-like<0.4.0,>=0.3.1->llama_index.llms.groq) (0.21.1)\n",
            "Requirement already satisfied: safetensors>=0.4.3 in /usr/local/lib/python3.11/dist-packages (from transformers<5.0.0,>=4.37.0->llama-index-llms-openai-like<0.4.0,>=0.3.1->llama_index.llms.groq) (0.5.3)\n",
            "Collecting mypy-extensions>=0.3.0 (from typing-inspect>=0.8.0->llama-index-core<0.13.0,>=0.12.0->llama-index-tools-tavily-research)\n",
            "  Downloading mypy_extensions-1.0.0-py3-none-any.whl.metadata (1.1 kB)\n",
            "Collecting marshmallow<4.0.0,>=3.18.0 (from dataclasses-json->llama-index-core<0.13.0,>=0.12.0->llama-index-tools-tavily-research)\n",
            "  Downloading marshmallow-3.26.1-py3-none-any.whl.metadata (7.3 kB)\n",
            "Collecting colorama>=0.4 (from griffe->banks<3.0.0,>=2.0.0->llama-index-core<0.13.0,>=0.12.0->llama-index-tools-tavily-research)\n",
            "  Downloading colorama-0.4.6-py2.py3-none-any.whl.metadata (17 kB)\n",
            "Downloading dotenv-0.9.9-py2.py3-none-any.whl (1.9 kB)\n",
            "Downloading llama_index_tools_tavily_research-0.3.0-py3-none-any.whl (3.3 kB)\n",
            "Downloading llama_index-0.12.30-py3-none-any.whl (7.0 kB)\n",
            "Downloading llama_hub-0.0.79.post1-py3-none-any.whl (103.9 MB)\n",
            "\u001b[2K   \u001b[90m━━━━━━━━━━━━━━━━━━━━━━━━━━━━━━━━━━━━━━━━\u001b[0m \u001b[32m103.9/103.9 MB\u001b[0m \u001b[31m7.4 MB/s\u001b[0m eta \u001b[36m0:00:00\u001b[0m\n",
            "\u001b[?25hDownloading tavily_python-0.5.4-py3-none-any.whl (44 kB)\n",
            "\u001b[2K   \u001b[90m━━━━━━━━━━━━━━━━━━━━━━━━━━━━━━━━━━━━━━━━\u001b[0m \u001b[32m44.4/44.4 kB\u001b[0m \u001b[31m2.2 MB/s\u001b[0m eta \u001b[36m0:00:00\u001b[0m\n",
            "\u001b[?25hDownloading llama_index_llms_groq-0.3.1-py3-none-any.whl (2.9 kB)\n",
            "Downloading llama_index_tools_yahoo_finance-0.3.0-py3-none-any.whl (2.7 kB)\n",
            "Downloading pyvis-0.3.2-py3-none-any.whl (756 kB)\n",
            "\u001b[2K   \u001b[90m━━━━━━━━━━━━━━━━━━━━━━━━━━━━━━━━━━━━━━━━\u001b[0m \u001b[32m756.0/756.0 kB\u001b[0m \u001b[31m36.5 MB/s\u001b[0m eta \u001b[36m0:00:00\u001b[0m\n",
            "\u001b[?25hDownloading llama_index_agent_openai-0.4.6-py3-none-any.whl (13 kB)\n",
            "Downloading llama_index_cli-0.4.1-py3-none-any.whl (28 kB)\n",
            "Downloading llama_index_core-0.12.30-py3-none-any.whl (1.6 MB)\n",
            "\u001b[2K   \u001b[90m━━━━━━━━━━━━━━━━━━━━━━━━━━━━━━━━━━━━━━━━\u001b[0m \u001b[32m1.6/1.6 MB\u001b[0m \u001b[31m51.2 MB/s\u001b[0m eta \u001b[36m0:00:00\u001b[0m\n",
            "\u001b[?25hDownloading llama_index_embeddings_openai-0.3.1-py3-none-any.whl (6.2 kB)\n",
            "Downloading llama_index_indices_managed_llama_cloud-0.6.11-py3-none-any.whl (14 kB)\n",
            "Downloading llama_index_llms_openai-0.3.33-py3-none-any.whl (23 kB)\n",
            "Downloading llama_index_llms_openai_like-0.3.4-py3-none-any.whl (4.3 kB)\n",
            "Downloading llama_index_multi_modal_llms_openai-0.4.3-py3-none-any.whl (5.9 kB)\n",
            "Downloading llama_index_program_openai-0.3.1-py3-none-any.whl (5.3 kB)\n",
            "Downloading llama_index_question_gen_openai-0.3.0-py3-none-any.whl (2.9 kB)\n",
            "Downloading llama_index_readers_file-0.4.7-py3-none-any.whl (40 kB)\n",
            "\u001b[2K   \u001b[90m━━━━━━━━━━━━━━━━━━━━━━━━━━━━━━━━━━━━━━━━\u001b[0m \u001b[32m40.8/40.8 kB\u001b[0m \u001b[31m2.6 MB/s\u001b[0m eta \u001b[36m0:00:00\u001b[0m\n",
            "\u001b[?25hDownloading llama_index_readers_llama_parse-0.4.0-py3-none-any.whl (2.5 kB)\n",
            "Downloading pyaml-23.12.0-py3-none-any.whl (23 kB)\n",
            "Downloading tiktoken-0.9.0-cp311-cp311-manylinux_2_17_x86_64.manylinux2014_x86_64.whl (1.2 MB)\n",
            "\u001b[2K   \u001b[90m━━━━━━━━━━━━━━━━━━━━━━━━━━━━━━━━━━━━━━━━\u001b[0m \u001b[32m1.2/1.2 MB\u001b[0m \u001b[31m33.2 MB/s\u001b[0m eta \u001b[36m0:00:00\u001b[0m\n",
            "\u001b[?25hDownloading python_dotenv-1.1.0-py3-none-any.whl (20 kB)\n",
            "Downloading retrying-1.3.4-py3-none-any.whl (11 kB)\n",
            "Downloading banks-2.1.1-py3-none-any.whl (28 kB)\n",
            "Downloading dirtyjson-1.0.8-py3-none-any.whl (25 kB)\n",
            "Downloading filetype-1.2.0-py2.py3-none-any.whl (19 kB)\n",
            "Downloading jedi-0.19.2-py2.py3-none-any.whl (1.6 MB)\n",
            "\u001b[2K   \u001b[90m━━━━━━━━━━━━━━━━━━━━━━━━━━━━━━━━━━━━━━━━\u001b[0m \u001b[32m1.6/1.6 MB\u001b[0m \u001b[31m41.6 MB/s\u001b[0m eta \u001b[36m0:00:00\u001b[0m\n",
            "\u001b[?25hDownloading llama_cloud-0.1.18-py3-none-any.whl (253 kB)\n",
            "\u001b[2K   \u001b[90m━━━━━━━━━━━━━━━━━━━━━━━━━━━━━━━━━━━━━━━━\u001b[0m \u001b[32m253.1/253.1 kB\u001b[0m \u001b[31m14.8 MB/s\u001b[0m eta \u001b[36m0:00:00\u001b[0m\n",
            "\u001b[?25hDownloading llama_parse-0.6.12-py3-none-any.whl (4.9 kB)\n",
            "Downloading pypdf-5.4.0-py3-none-any.whl (302 kB)\n",
            "\u001b[2K   \u001b[90m━━━━━━━━━━━━━━━━━━━━━━━━━━━━━━━━━━━━━━━━\u001b[0m \u001b[32m302.3/302.3 kB\u001b[0m \u001b[31m18.3 MB/s\u001b[0m eta \u001b[36m0:00:00\u001b[0m\n",
            "\u001b[?25hDownloading striprtf-0.0.26-py3-none-any.whl (6.9 kB)\n",
            "Downloading typing_inspect-0.9.0-py3-none-any.whl (8.8 kB)\n",
            "Downloading dataclasses_json-0.6.7-py3-none-any.whl (28 kB)\n",
            "Downloading llama_cloud_services-0.6.12-py3-none-any.whl (36 kB)\n",
            "Downloading marshmallow-3.26.1-py3-none-any.whl (50 kB)\n",
            "\u001b[2K   \u001b[90m━━━━━━━━━━━━━━━━━━━━━━━━━━━━━━━━━━━━━━━━\u001b[0m \u001b[32m50.9/50.9 kB\u001b[0m \u001b[31m3.2 MB/s\u001b[0m eta \u001b[36m0:00:00\u001b[0m\n",
            "\u001b[?25hDownloading mypy_extensions-1.0.0-py3-none-any.whl (4.7 kB)\n",
            "Downloading griffe-1.7.2-py3-none-any.whl (129 kB)\n",
            "\u001b[2K   \u001b[90m━━━━━━━━━━━━━━━━━━━━━━━━━━━━━━━━━━━━━━━━\u001b[0m \u001b[32m129.2/129.2 kB\u001b[0m \u001b[31m8.9 MB/s\u001b[0m eta \u001b[36m0:00:00\u001b[0m\n",
            "\u001b[?25hDownloading colorama-0.4.6-py2.py3-none-any.whl (25 kB)\n",
            "Building wheels for collected packages: html2text\n",
            "  Building wheel for html2text (setup.py) ... \u001b[?25l\u001b[?25hdone\n",
            "  Created wheel for html2text: filename=html2text-2024.2.26-py3-none-any.whl size=33111 sha256=492d2793663e0a0edcb0384db929bfaecccae36be70997e8d92eb71b95de63b1\n",
            "  Stored in directory: /root/.cache/pip/wheels/23/58/7c/d9c8c4d924a1ac2b621add1b2c1d30b639629a33cfdfde6a45\n",
            "Successfully built html2text\n",
            "Installing collected packages: striprtf, filetype, dirtyjson, retrying, python-dotenv, pypdf, pyaml, mypy-extensions, marshmallow, jedi, html2text, colorama, typing-inspect, tiktoken, griffe, dotenv, tavily-python, pyvis, llama-cloud, dataclasses-json, banks, llama-index-core, llama-index-tools-yahoo-finance, llama-index-tools-tavily-research, llama-index-readers-file, llama-index-llms-openai, llama-index-indices-managed-llama-cloud, llama-index-embeddings-openai, llama-cloud-services, llama-parse, llama-index-multi-modal-llms-openai, llama-index-llms-openai-like, llama-index-cli, llama-index-agent-openai, llama-index-readers-llama-parse, llama-index-program-openai, llama_index.llms.groq, llama-index-question-gen-openai, llama-index, llama-hub\n",
            "Successfully installed banks-2.1.1 colorama-0.4.6 dataclasses-json-0.6.7 dirtyjson-1.0.8 dotenv-0.9.9 filetype-1.2.0 griffe-1.7.2 html2text-2024.2.26 jedi-0.19.2 llama-cloud-0.1.18 llama-cloud-services-0.6.12 llama-hub-0.0.79.post1 llama-index-0.12.30 llama-index-agent-openai-0.4.6 llama-index-cli-0.4.1 llama-index-core-0.12.30 llama-index-embeddings-openai-0.3.1 llama-index-indices-managed-llama-cloud-0.6.11 llama-index-llms-openai-0.3.33 llama-index-llms-openai-like-0.3.4 llama-index-multi-modal-llms-openai-0.4.3 llama-index-program-openai-0.3.1 llama-index-question-gen-openai-0.3.0 llama-index-readers-file-0.4.7 llama-index-readers-llama-parse-0.4.0 llama-index-tools-tavily-research-0.3.0 llama-index-tools-yahoo-finance-0.3.0 llama-parse-0.6.12 llama_index.llms.groq-0.3.1 marshmallow-3.26.1 mypy-extensions-1.0.0 pyaml-23.12.0 pypdf-5.4.0 python-dotenv-1.1.0 pyvis-0.3.2 retrying-1.3.4 striprtf-0.0.26 tavily-python-0.5.4 tiktoken-0.9.0 typing-inspect-0.9.0\n"
          ]
        }
      ],
      "source": [
        "pip install dotenv llama-index-tools-tavily-research llama-index llama-hub tavily-python llama_index.llms.groq llama-index-tools-yahoo-finance pyvis"
      ]
    },
    {
      "cell_type": "markdown",
      "source": [
        "# Import all the needed packages"
      ],
      "metadata": {
        "id": "dLrNQgR3RYYt"
      }
    },
    {
      "cell_type": "code",
      "source": [
        "from llama_index.llms.groq import Groq\n",
        "from llama_index.llms.openai import OpenAI\n",
        "from llama_index.core.llms import ChatMessage, MessageRole\n",
        "\n",
        "# Different types of agents\n",
        "from llama_index.core.agent.workflow import (\n",
        "    ReActAgent, # Run\n",
        "    FunctionAgent, # Run\n",
        "    AgentWorkflow #MultiAgent\n",
        ")\n",
        "\n",
        "from llama_index.core.tools import(\n",
        "    BaseTool,\n",
        "    FunctionTool,\n",
        "    QueryEngineTool\n",
        ")\n",
        "from llama_index.core import PromptTemplate\n",
        "from llama_index.core.agent import ReActChatFormatter\n",
        "from llama_index.tools.yahoo_finance import YahooFinanceToolSpec\n",
        "from IPython.display import Markdown\n",
        "from llama_index.core.agent.workflow import (\n",
        "    AgentInput,\n",
        "    AgentOutput,\n",
        "    ToolCall,\n",
        "    ToolCallResult,\n",
        "    AgentStream\n",
        ")\n",
        "\n",
        "from llama_index.core.workflow import (\n",
        "    StartEvent,\n",
        "    StopEvent,\n",
        "    Workflow,\n",
        "    step,\n",
        "    Event,\n",
        "    draw_all_possible_flows\n",
        ")\n",
        "\n",
        "import pyvis\n",
        "\n",
        "from llama_index.tools.tavily_research.base import TavilyToolSpec\n",
        "from pydantic import BaseModel, Field\n",
        "from typing import Union\n",
        "\n",
        "from llama_index.core.agent import FunctionCallingAgent # Run\n",
        "\n",
        "from llama_index.core.memory import (\n",
        "    ChatMemoryBuffer,\n",
        ")\n",
        "from llama_index.embeddings.openai import OpenAIEmbedding\n",
        "\n",
        "import yfinance as yf\n",
        "import datetime as dt\n",
        "\n",
        "from llama_index.core.tools import FunctionTool\n",
        "from datetime import datetime\n",
        "from llama_index.core.tools import ToolMetadata, FunctionTool\n",
        "from llama_index.core.workflow import WorkflowCheckpointer\n",
        "from llama_index.core.workflow import Context\n",
        "\n",
        "import os\n",
        "from dotenv import load_dotenv\n",
        "load_dotenv()\n",
        "import json"
      ],
      "metadata": {
        "id": "Zu99SjOIRJ3T"
      },
      "execution_count": null,
      "outputs": []
    },
    {
      "cell_type": "markdown",
      "source": [
        "# Groq LLM"
      ],
      "metadata": {
        "id": "RZGiKZXjRtTp"
      }
    },
    {
      "cell_type": "code",
      "source": [
        "llm = Groq(model=\"llama-3.3-70b-versatile\", api_key = \"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\")"
      ],
      "metadata": {
        "id": "wT5W31TlRqST"
      },
      "execution_count": null,
      "outputs": []
    },
    {
      "cell_type": "markdown",
      "source": [
        "### Code to check if the llm is working"
      ],
      "metadata": {
        "id": "wi-m50XkSGXB"
      }
    },
    {
      "cell_type": "code",
      "source": [
        "messages = [\n",
        "    ChatMessage(\n",
        "        role=\"system\", content=\"You are a highly knowledgeable financial analyst specializing in the stock market.\"\n",
        "    ),\n",
        "    ChatMessage(role=\"user\", content=\"what is todays date\"),\n",
        "]\n",
        "resp = llm.chat(messages)"
      ],
      "metadata": {
        "id": "sMPlkWzXSFll"
      },
      "execution_count": null,
      "outputs": []
    },
    {
      "cell_type": "code",
      "source": [
        "display(Markdown(resp.message.blocks[0].text))"
      ],
      "metadata": {
        "colab": {
          "base_uri": "https://localhost:8080/",
          "height": 46
        },
        "id": "sHsK8qhySSGP",
        "outputId": "d959f3f3-5cf6-4263-c1c1-cf862419da5c"
      },
      "execution_count": null,
      "outputs": [
        {
          "output_type": "display_data",
          "data": {
            "text/plain": [
              "<IPython.core.display.Markdown object>"
            ],
            "text/markdown": "Today's date is April 12, 2025."
          },
          "metadata": {}
        }
      ]
    },
    {
      "cell_type": "markdown",
      "source": [
        "# Tools\n",
        "- Some tools are being used from APIs while some tools were manually defined\n",
        "- (To do) LLMs(LLama models from groq) can’t handle large texts at once especially when calling basic_stock_info for more than one stock, so we need a more optimized basic stock info."
      ],
      "metadata": {
        "id": "TpIDAtHVTjdk"
      }
    },
    {
      "cell_type": "code",
      "execution_count": null,
      "metadata": {
        "id": "9dca5347"
      },
      "outputs": [],
      "source": [
        "finance_tools = YahooFinanceToolSpec().to_tool_list()\n",
        "finance_tools = finance_tools[:-1]"
      ]
    },
    {
      "cell_type": "code",
      "execution_count": null,
      "metadata": {
        "id": "d615043e"
      },
      "outputs": [],
      "source": [
        "tavily_tool = TavilyToolSpec(api_key = \"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\").to_tool_list()"
      ]
    },
    {
      "cell_type": "code",
      "execution_count": null,
      "metadata": {
        "id": "34c9695c"
      },
      "outputs": [],
      "source": [
        "search = tavily_tool[0]"
      ]
    },
    {
      "cell_type": "code",
      "execution_count": null,
      "metadata": {
        "colab": {
          "base_uri": "https://localhost:8080/"
        },
        "id": "daad9801",
        "outputId": "a75fa162-000b-4bcd-c58b-5dcc1c8fda70"
      },
      "outputs": [
        {
          "output_type": "stream",
          "name": "stdout",
          "text": [
            "balance_sheet(ticker: str) -> str\n",
            "\n",
            "        Return the balance sheet of the stock.\n",
            "\n",
            "        Args:\n",
            "          ticker (str): the stock ticker to be given to yfinance\n",
            "\n",
            "        \n"
          ]
        }
      ],
      "source": [
        "print(finance_tools[0].metadata.description) # total 6 functions"
      ]
    },
    {
      "cell_type": "code",
      "execution_count": null,
      "metadata": {
        "colab": {
          "base_uri": "https://localhost:8080/"
        },
        "id": "2d9610cc",
        "outputId": "69ab09a2-24c5-46b6-d1f8-57da000fd6b0"
      },
      "outputs": [
        {
          "output_type": "execute_result",
          "data": {
            "text/plain": [
              "ToolMetadata(description='search(query: str, max_results: Optional[int] = 6) -> List[llama_index.core.schema.Document]\\n\\n        Run query through Tavily Search and return metadata.\\n\\n        Args:\\n            query: The query to search for.\\n            max_results: The maximum number of results to return.\\n\\n        Returns:\\n            results: A list of dictionaries containing the results:\\n                url: The url of the result.\\n                content: The content of the result.\\n\\n        ', name='search', fn_schema=<class 'llama_index.core.tools.utils.search'>, return_direct=False)"
            ]
          },
          "metadata": {},
          "execution_count": 34
        }
      ],
      "source": [
        "search.metadata"
      ]
    },
    {
      "cell_type": "code",
      "execution_count": null,
      "metadata": {
        "id": "0f6e62aa"
      },
      "outputs": [],
      "source": [
        "def returns(ticker: str, start_date: str, end_date:str) -> float:\n",
        "    \"\"\"\n",
        "    Return the 'Returns' of a stock between start_date and end_date.\n",
        "\n",
        "\n",
        "    Args:\n",
        "      ticker (str): the stock ticker to be given to yfinance\n",
        "      start_date (str): the starting date from which the returns have to be calculated in the format YYYY-MM-DD\n",
        "      end_data (str): the ending date till which the returns have to be calculated YYYY-MM-DD\n",
        "\n",
        "    \"\"\"\n",
        "    stock = yf.Ticker(ticker)\n",
        "    start_date = datetime.strptime(start_date, \"%Y-%m-%d\")\n",
        "    end_date = datetime.strptime(end_date, \"%Y-%m-%d\")\n",
        "    data = stock.history(start=start_date, end=end_date, auto_adjust=True)\n",
        "\n",
        "    if len(data) == 1:\n",
        "        return round(((data['Open'].iloc[0]-data['Close'].iloc[0])/data['Close'].iloc[0])*100,2)\n",
        "\n",
        "    return round(( (data['Close'].iloc[-1]-data['Close'].iloc[0])/data['Close'].iloc[0])*100,2)"
      ]
    },
    {
      "cell_type": "code",
      "source": [
        "def price_history(ticker: str, start_date: str, end_date:str):\n",
        "    \"\"\"\n",
        "    Return the list of a stocks' price between start_date and end_date.\n",
        "\n",
        "    Args:\n",
        "      ticker (str): the stock ticker to be given to yfinance\n",
        "      start_date (str): the starting date from which the returns have to be calculated in the format YYYY-MM-DD\n",
        "      end_data (str): the ending date till which the returns have to be calculated YYYY-MM-DD\n",
        "\n",
        "    \"\"\"\n",
        "    stock = yf.Ticker(ticker)\n",
        "    start_date = datetime.strptime(start_date, \"%Y-%m-%d\")\n",
        "    end_date = datetime.strptime(end_date, \"%Y-%m-%d\")\n",
        "\n",
        "    data = stock.history(start=start_date, end=end_date, auto_adjust=True)\n",
        "    return data.to_json()\n",
        "    # data = data['Close'].tolist()\n",
        "\n",
        "    # return data"
      ],
      "metadata": {
        "id": "xY8Mm4KPW0hk"
      },
      "execution_count": null,
      "outputs": []
    },
    {
      "cell_type": "code",
      "source": [
        "price_history_tool = FunctionTool.from_defaults(\n",
        "    price_history,\n",
        ")"
      ],
      "metadata": {
        "id": "ncL02RVLXf7i"
      },
      "execution_count": null,
      "outputs": []
    },
    {
      "cell_type": "code",
      "execution_count": null,
      "metadata": {
        "id": "04fe760c"
      },
      "outputs": [],
      "source": [
        "# agent = ReActAgent(\n",
        "#     tools = [today_date_tool,price_history_tool],\n",
        "#     llm=llm,\n",
        "#     verbose=True,\n",
        "#     system_prompt=\"You're a helpful assistant.\",\n",
        "# )"
      ]
    },
    {
      "cell_type": "code",
      "execution_count": null,
      "metadata": {
        "id": "25034eec"
      },
      "outputs": [],
      "source": [
        "# handler = agent.run(\"1 week price history of nvda\")\n",
        "\n",
        "# async for event in handler.stream_events():\n",
        "#     if isinstance(event, AgentStream):\n",
        "#         print(event.delta, end=\"\", flush=True)"
      ]
    },
    {
      "cell_type": "code",
      "execution_count": null,
      "metadata": {
        "id": "5f8b7afa"
      },
      "outputs": [],
      "source": [
        "from datetime import datetime\n",
        "import yfinance as yf\n",
        "\n",
        "def CAGR(ticker: str, start_date: str, end_date: str, period: int) -> float:\n",
        "    \"\"\"\n",
        "    Return the CAGR of a stock between start_date and end_date.\n",
        "\n",
        "    Args:\n",
        "      ticker (str): Stock ticker symbol.\n",
        "      start_date (str): Start date in \"YYYY-MM-DD\" format.\n",
        "      end_date (str): End date in \"YYYY-MM-DD\" format.\n",
        "      period (int): Number of years over which to calculate CAGR.\n",
        "\n",
        "    Returns:\n",
        "      float: CAGR in percentage.\n",
        "    \"\"\"\n",
        "    stock = yf.Ticker(ticker)\n",
        "    start_date = datetime.strptime(start_date, \"%Y-%m-%d\")\n",
        "    end_date = datetime.strptime(end_date, \"%Y-%m-%d\")\n",
        "\n",
        "    data = stock.history(start=start_date, end=end_date, auto_adjust=True)\n",
        "\n",
        "    if data.empty:\n",
        "        raise ValueError(f\"No stock data available for {ticker} in the given date range.\")\n",
        "\n",
        "    initial_price = data['Close'].iloc[0]\n",
        "    final_price = data['Close'].iloc[-1]\n",
        "\n",
        "    period = int(period)\n",
        "\n",
        "    cagr = ((final_price / initial_price) ** (1 / period)) - 1\n",
        "    return cagr * 100"
      ]
    },
    {
      "cell_type": "code",
      "execution_count": null,
      "metadata": {
        "id": "672290ec"
      },
      "outputs": [],
      "source": [
        "returns_tool = FunctionTool.from_defaults(\n",
        "    returns\n",
        ")"
      ]
    },
    {
      "cell_type": "code",
      "execution_count": null,
      "metadata": {
        "id": "615efdd1"
      },
      "outputs": [],
      "source": [
        "CAGR_tool = FunctionTool.from_defaults(\n",
        "    CAGR\n",
        ")"
      ]
    },
    {
      "cell_type": "code",
      "execution_count": null,
      "metadata": {
        "id": "d07e7008"
      },
      "outputs": [],
      "source": [
        "def get_date() -> str:\n",
        "        \"\"\"\n",
        "        A function to return todays date.\n",
        "        Call this before any other functions if you are unaware of the current date\n",
        "\n",
        "        Returns:\n",
        "        str: Todays date in YYYY-MM-DD\n",
        "        \"\"\"\n",
        "        return datetime.today().strftime('%Y-%m-%d')\n",
        "\n",
        "\n",
        "today_date_tool = FunctionTool.from_defaults(\n",
        "    fn=get_date,\n",
        ")"
      ]
    },
    {
      "cell_type": "markdown",
      "source": [
        "# Agent Team\n"
      ],
      "metadata": {
        "id": "jC8z3ZjPUUFc"
      }
    },
    {
      "cell_type": "markdown",
      "source": [
        "## Team Members"
      ],
      "metadata": {
        "id": "A-SFDieIUltW"
      }
    },
    {
      "cell_type": "code",
      "execution_count": null,
      "metadata": {
        "id": "080fe805"
      },
      "outputs": [],
      "source": [
        "summary_agent = FunctionAgent(\n",
        "    name=\"SummaryAgent\",\n",
        "    description=\"Handles general conversations and provides basic stock summaries. Delegates specific tasks to specialized agents.\",\n",
        "    system_prompt=(\n",
        "        \"You are the SummaryAgent, responsible for answering general questions and providing a basic stock summary. \"\n",
        "        \"For stock performance metrics like returns and CAGR, you must delegate to the PerformanceAgent. \"\n",
        "        \"For stock-related news and ONLY when asked for news, you must delegate to the NewsAgent. \"\n",
        "        \"Once the specialized agent completes its task, take control back and summarize the response for the user.\"\n",
        "    ),\n",
        "    llm=llm,\n",
        "    tools=[finance_tools[3],today_date_tool],\n",
        "    can_handoff_to=[\"PerformanceAgent\", \"NewsAgent\",\"CAGRAgent\"]\n",
        ")\n"
      ]
    },
    {
      "cell_type": "code",
      "execution_count": null,
      "metadata": {
        "id": "MiDOoD9gOlD_"
      },
      "outputs": [],
      "source": [
        "CAGR_agent = FunctionAgent(\n",
        "    name=\"CAGRAgent\",\n",
        "    description=\"Handles stock CAGR calculations. Returns control to SummaryAgent once done.\",\n",
        "    system_prompt=(\n",
        "        \"You are the CAGRAgent, an expert in stock CAGR calculations. \"\n",
        "        \"You can calculate stock CAGR. \"\n",
        "        \"Once you finish the necessary calculations, present the information in a structured way.\"\n",
        "    ),\n",
        "    llm=llm,\n",
        "    tools=[CAGR_tool, today_date_tool],\n",
        "    can_handoff_to=[\"SummaryAgent\"]\n",
        ")\n"
      ]
    },
    {
      "cell_type": "code",
      "execution_count": null,
      "metadata": {
        "id": "3620b4ac"
      },
      "outputs": [],
      "source": [
        "performance_agent = ReActAgent(\n",
        "    name=\"PerformanceAgent\",\n",
        "    description=\"Handles stock returns calculations, Returns control to SummaryAgent once done.\",\n",
        "    system_prompt=(\n",
        "        \"You are the PerformanceAgent, an expert in stock returns calculations. \"\n",
        "        \"You can calculate stock returns for different time periods (e.g., 1-day, 1-month, 1-year, 10-year) \"\n",
        "        \"You can also provide the historical prices of a given stock\"\n",
        "        \"Once you provide the necessary calculations, return control to the SummaryAgent so it can present the information in a structured way.\"\n",
        "    ),\n",
        "    llm=llm,\n",
        "    tools=[returns_tool, today_date_tool,price_history_tool],\n",
        "    can_handoff_to=[\"SummaryAgent\"]\n",
        ")\n"
      ]
    },
    {
      "cell_type": "code",
      "execution_count": null,
      "metadata": {
        "id": "c3c94e21"
      },
      "outputs": [],
      "source": [
        "news_agent = FunctionAgent(\n",
        "    name=\"NewsAgent\",\n",
        "    description=\"Finds recent news related to a given stock or company. Returns control to SummaryAgent after retrieving news.\",\n",
        "    system_prompt=(\n",
        "        \"You are the NewsAgent, an expert at finding recent news about stocks, companies, and financial markets. \"\n",
        "        \"When asked about stock-related news, search for relevant articles and summarize key insights. \"\n",
        "        \"After retrieving the news, return control to the SummaryAgent to provide a final response to the user.\"\n",
        "    ),\n",
        "    llm=llm,\n",
        "    tools=[search],\n",
        "    can_handoff_to=[\"SummaryAgent\"]\n",
        ")\n"
      ]
    },
    {
      "cell_type": "markdown",
      "source": [
        "## Team Workflow"
      ],
      "metadata": {
        "id": "Il137CzRUqq7"
      }
    },
    {
      "cell_type": "code",
      "execution_count": null,
      "metadata": {
        "id": "14cd519d"
      },
      "outputs": [],
      "source": [
        "agent_workflow = AgentWorkflow(\n",
        "    agents=[summary_agent, news_agent, performance_agent, CAGR_agent],\n",
        "    root_agent=summary_agent.name,\n",
        "    initial_state={\n",
        "        \"todays date\": f'{get_date()}'\n",
        "    },\n",
        ")"
      ]
    },
    {
      "cell_type": "markdown",
      "source": [
        "## User-Agent Chat"
      ],
      "metadata": {
        "id": "QePTGO_7U0e4"
      }
    },
    {
      "cell_type": "code",
      "execution_count": null,
      "metadata": {
        "colab": {
          "base_uri": "https://localhost:8080/"
        },
        "id": "c94cb9f1",
        "scrolled": true,
        "outputId": "11b79f6b-05bf-4539-ff77-962f548af3b6"
      },
      "outputs": [
        {
          "output_type": "stream",
          "name": "stdout",
          "text": [
            "User: provide me an overview on microsofts stock\n",
            "\n",
            "\n",
            "Agent:  Microsoft Corporation is a technology company that develops and supports software, services, devices, and solutions worldwide. The company's stock has a current price of $388.45, with a 52-week low of $344.79 and a 52-week high of $468.35. Microsoft has a market capitalization of $2.88 trillion and a dividend yield of 0.85%. The company's revenue has grown by 12.3% in the last year, and its earnings have grown by 10.2%. Microsoft's profit margins are 35.43%, and its operating margins are 45.58%. The company has a strong balance sheet, with a quick ratio of 1.20 and a current ratio of 1.35. Overall, Microsoft is a well-established company with a strong track record of growth and profitability.\n",
            "\n",
            "\n",
            "User: exit\n",
            "\n",
            "\n"
          ]
        }
      ],
      "source": [
        "ctx = Context(agent_workflow)\n",
        "w_cptr = WorkflowCheckpointer(workflow=agent_workflow)\n",
        "\n",
        "while True:\n",
        "  input_user_msg = input(\"User: \")\n",
        "  print('\\n')\n",
        "  if input_user_msg == \"exit\":\n",
        "    break\n",
        "\n",
        "  handler = w_cptr.run(user_msg=input_user_msg, ctx=ctx)\n",
        "  await handler\n",
        "  result = handler.result()\n",
        "  print('Agent: ',result.response.blocks[0].text)\n",
        "  print('\\n')"
      ]
    },
    {
      "cell_type": "markdown",
      "source": [
        "## To Debug for a Specific Prompt"
      ],
      "metadata": {
        "id": "eY12sekzU98I"
      }
    },
    {
      "cell_type": "code",
      "execution_count": null,
      "metadata": {
        "colab": {
          "base_uri": "https://localhost:8080/"
        },
        "id": "8dfdd38b",
        "outputId": "6741a103-73b3-405d-85b2-e402a76194b5"
      },
      "outputs": [
        {
          "output_type": "stream",
          "name": "stdout",
          "text": [
            "Input: whats the news on microsoft stock\n",
            "\n",
            "==================================================\n",
            "🤖 Agent: SummaryAgent\n",
            "==================================================\n",
            "\n",
            "🛠️  Planning to use tools: ['handoff']\n",
            "🔨 Calling Tool: handoff\n",
            "  With arguments: {'reason': 'user requested news on microsoft stock', 'to_agent': 'NewsAgent'}\n",
            "🔧 Tool Result (handoff):\n",
            "  Arguments: {'reason': 'user requested news on microsoft stock', 'to_agent': 'NewsAgent'}\n",
            "  Output: Agent NewsAgent is now handling the request due to the following reason: user requested news on microsoft stock.\n",
            "Please continue with the current request.\n",
            "\n",
            "==================================================\n",
            "🤖 Agent: NewsAgent\n",
            "==================================================\n",
            "\n",
            "🛠️  Planning to use tools: ['search']\n",
            "🔨 Calling Tool: search\n",
            "  With arguments: {'query': 'Microsoft stock news', 'max_results': 3}\n",
            "🔧 Tool Result (search):\n",
            "  Arguments: {'query': 'Microsoft stock news', 'max_results': 3}\n",
            "  Output: [Document(id_='e59d24ab-9d6b-484e-b00d-62cd72183cb0', embedding=None, metadata={'url': 'https://www.marketwatch.com/investing/stock/msft'}, excluded_embed_metadata_keys=[], excluded_llm_metadata_keys=[], relationships={}, metadata_template='{key}: {value}', metadata_separator='\\n', text_resource=MediaResource(embeddings=None, data=None, text=\"Mar. 4, 2025 at 11:05 a.m. ET on GuruFocus.com\\nMicrosoft's AI Bet Is Cracking--Stock Down 18% as Investors Lose Patience\\nMicrosoft's AI Bet Is Cracking--Stock Down 18% as Investors Lose Patience\\nMar. 4, 2025 at 10:57 a.m. ET on GuruFocus.com\\nShould You Invest in MSFT on Dragon Copilot Healthcare AI Innovation?\\nMar. 4, 2025 at 10:31 a.m. ET on Zacks.com\\nTemporary Setback Opens Door for Buy-The-Dip Idea on Microsoft (MSFT) Stock\\nMar. 4, 2025 at 10:08 a.m. ET on TipRanks.com [...] 3 Month\\n\\n-9.49%\\n\\nYTD\\n\\n-7.41%\\n\\n1 Year\\n\\n-3.07%\\n\\nAnalyst Ratings\\n\\nSell\\nUnder\\nHold\\nOver\\nBuy\\n\\nNumber of Ratings 58 Full Ratings\\nRecent News\\nMarketWatch Dow Jones\\n\\nMarkets The Trump Put Is Dead. Tariffs Were the Fatal Blow.\\nMar. 4, 2025 at 2:26 p.m. ET by Barron's\\n\\nMicrosoft’s stock is at its lowest level in over a year. Why the selloff may be overdone.\\nMar. 4, 2025 at 2:23 p.m. ET by Therese Poletti\\n\\nAI Nvidia Stock Is Trying to Make a Comeback\\nMar. 4, 2025 at 1:51 p.m. ET by Barron's [...] It's not just 'Magnificent Seven' stocks that are falling. Bonds are selling off, too.\\nMar. 3, 2025 at 2:42 p.m. ET by Ciara Linnane\\n\\nTelecom This AI Trend Will Be the Hot Topic at World’s Biggest Smartphone Event\\nMar. 2, 2025 at 3:30 a.m. ET by Barron's\\n\\nWhy Microsoft is killing off Skype and sending it to the tech graveyard\\nFeb. 28, 2025 at 4:30 p.m. ET by Therese Poletti\\n\\nOptions A Hedging Strategy for Nervous Investors\\nFeb. 28, 2025 at 4:16 p.m. ET by Barron's\", path=None, url=None, mimetype=None), image_resource=None, audio_resource=None, video_resource=None, text_template='{metadata_str}\\n\\n{content}'), Document(id_='f2318bb5-5ddd-479e-b06c-911b324c18d6', embedding=None, metadata={'url': 'https://finance.yahoo.com/quote/MSFT/news/'}, excluded_embed_metadata_keys=[], excluded_llm_metadata_keys=[], relationships={}, metadata_template='{key}: {value}', metadata_separator='\\n', text_resource=MediaResource(embeddings=None, data=None, text=\"Microsoft Corporation (MSFT) Latest Stock News & Headlines - Yahoo Finance\\n\\nNews\\n\\nToday's news\\nUS\\nPolitics\\nWorld\\n\\nTech\\n\\nReviews and deals\\nAudio\\nComputing\\nGaming\\nHealth\\nHome\\nPhones\\nScience\\nTVs\\nClimate change\\nHealth\\nScience\\n\\nOriginals\\n\\n\\nThe 360\\n\\nNewsletters\\n\\n\\n\\n\\nLife\\n\\n\\nHealth\\n\\nCOVID-19\\nFall allergies\\nHealth news\\nMental health\\nRelax\\nSexual health\\nStudies\\nThe Unwind\\n\\nParenting\\n\\n\\nFamily health\\n\\nSo mini ways\\n\\nStyle and beauty\\n\\n\\nIt Figures\\n\\nUnapologetically\\nHoroscopes\\n\\nShopping\\n\\n\\nBuying guides\", path=None, url=None, mimetype=None), image_resource=None, audio_resource=None, video_resource=None, text_template='{metadata_str}\\n\\n{content}'), Document(id_='2e0398e9-60bd-4453-9c8f-b7ea6debf899', embedding=None, metadata={'url': 'https://finance.yahoo.com/quote/MSFT/'}, excluded_embed_metadata_keys=[], excluded_llm_metadata_keys=[], relationships={}, metadata_template='{key}: {value}', metadata_separator='\\n', text_resource=MediaResource(embeddings=None, data=None, text=\"Previous Close 392.53\\nOpen 392.76\\nBid 394.70 x 300\\nAsk 412.40 x 100\\nDay's Range 386.58 - 397.63\\n52 Week Range 385.58 - 468.35\\nVolume 31,886,757\\nAvg. Volume 22,282,840\\nMarket Cap (intraday) 2.951T\\nBeta (5Y Monthly) 0.89\\nPE Ratio (TTM) 31.94\\nEPS (TTM) 12.43\\nEarnings Date Apr 23, 2025 - Apr 28, 2025\\nForward Dividend & Yield 3.32 (0.84%)\\nEx-Dividend Date Feb 20, 2025\\n1y Target Est 508.05 [...] Microsoft Corporation (MSFT) Stock Price, News, Quote & History - Yahoo Finance\\n\\nNews\\n\\nToday's news\\nUS\\nPolitics\\nWorld\\n\\nTech\\n\\nReviews and deals\\nAudio\\nComputing\\nGaming\\nHealth\\nHome\\nPhones\\nScience\\nTVs\\nClimate change\\nHealth\\nScience\\n\\nOriginals\\n\\n\\nThe 360\\n\\nNewsletters\\n\\n\\n\\n\\nLife\\n\\n\\nHealth\\n\\nCOVID-19\\nFall allergies\\nHealth news\\nMental health\\nRelax\\nSexual health\\nStudies\\nThe Unwind\\n\\nParenting\\n\\n\\nFamily health\\n\\nSo mini ways\\n\\nStyle and beauty\\n\\n\\nIt Figures\\n\\nUnapologetically\\nHoroscopes\\n\\nShopping\\n\\n\\nBuying guides\", path=None, url=None, mimetype=None), image_resource=None, audio_resource=None, video_resource=None, text_template='{metadata_str}\\n\\n{content}')]\n",
            "🛠️  Planning to use tools: ['handoff']\n",
            "🔨 Calling Tool: handoff\n",
            "  With arguments: {'reason': 'NewsAgent has retrieved news on microsoft stock', 'to_agent': 'SummaryAgent'}\n",
            "🔧 Tool Result (handoff):\n",
            "  Arguments: {'reason': 'NewsAgent has retrieved news on microsoft stock', 'to_agent': 'SummaryAgent'}\n",
            "  Output: Agent SummaryAgent is now handling the request due to the following reason: NewsAgent has retrieved news on microsoft stock.\n",
            "Please continue with the current request.\n",
            "\n",
            "==================================================\n",
            "🤖 Agent: SummaryAgent\n",
            "==================================================\n",
            "\n",
            "📤 Output: Microsoft's stock is at its lowest level in over a year. The selloff may be overdone. Microsoft is killing off Skype and sending it to the tech graveyard. The company's AI bet is cracking, with the stock down 18% as investors lose patience. There are also concerns about the company's performance, with a 9.49% decline in the last 3 months and a 7.41% decline year-to-date. However, some analysts believe that the stock is a good buy, with a potential for long-term growth.\n"
          ]
        }
      ],
      "source": [
        "ctx = Context(agent_workflow)\n",
        "\n",
        "in_text = input(\"Input: \")\n",
        "\n",
        "handler = agent_workflow.run(\n",
        "    user_msg=f\"{in_text}\",\n",
        "    ctx=ctx\n",
        ")\n",
        "\n",
        "current_agent = None\n",
        "current_tool_calls = \"\"\n",
        "\n",
        "async for event in handler.stream_events():\n",
        "    if (\n",
        "        hasattr(event, \"current_agent_name\")\n",
        "        and event.current_agent_name != current_agent\n",
        "    ):\n",
        "        current_agent = event.current_agent_name\n",
        "        print(f\"\\n{'='*50}\")\n",
        "        print(f\"🤖 Agent: {current_agent}\")\n",
        "        print(f\"{'='*50}\\n\")\n",
        "    elif isinstance(event, AgentOutput):\n",
        "        if event.response.content:\n",
        "            print(\"📤 Output:\", event.response.content)\n",
        "            break\n",
        "        if event.tool_calls:\n",
        "            print(\n",
        "                \"🛠️  Planning to use tools:\",\n",
        "                [call.tool_name for call in event.tool_calls],\n",
        "            )\n",
        "    elif isinstance(event, ToolCallResult):\n",
        "        print(f\"🔧 Tool Result ({event.tool_name}):\")\n",
        "        print(f\"  Arguments: {event.tool_kwargs}\")\n",
        "        print(f\"  Output: {event.tool_output}\")\n",
        "    elif isinstance(event, ToolCall):\n",
        "        print(f\"🔨 Calling Tool: {event.tool_name}\")\n",
        "        print(f\"  With arguments: {event.tool_kwargs}\")\n",
        "        # 10 year cagr for nvda"
      ]
    },
    {
      "cell_type": "code",
      "source": [],
      "metadata": {
        "id": "ExusZgSb4Cm4"
      },
      "execution_count": null,
      "outputs": []
    }
  ]
}